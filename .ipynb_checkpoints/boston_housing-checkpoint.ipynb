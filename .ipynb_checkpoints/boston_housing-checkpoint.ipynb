{
 "cells": [
  {
   "cell_type": "markdown",
   "metadata": {},
   "source": [
    "#Machine Learning Engineer Nanodegree\n",
    "##Model Evaluation & Validation\n",
    "##Project 1: Predicting Boston Housing Prices\n",
    "\n",
    "Welcome to the first project of the Machine Learning Engineer Nanodegree! In this notebook, some template code has already been written. You will need to implement additional functionality to successfully answer all of the questions for this project. Unless it is requested, do not modify any of the code that has already been included. In this template code, there are four sections which you must complete to successfully produce a prediction with your model. Each section where you will write code is preceded by a **STEP X** header with comments describing what must be done. Please read the instructions carefully!\n",
    "\n",
    "In addition to implementing code, there will be questions that you must answer that relate to the project and your implementation. Each section where you will answer a question is preceded by a **QUESTION X** header. Be sure that you have carefully read each question and provide thorough answers in the text boxes that begin with \"**Answer:**\". Your project submission will be evaluated based on your answers to each of the questions.  \n",
    "\n",
    "A description of the dataset can be found [here](https://archive.ics.uci.edu/ml/datasets/Housing), which is provided by the **UCI Machine Learning Repository**."
   ]
  },
  {
   "cell_type": "markdown",
   "metadata": {},
   "source": [
    "#Getting Started\n",
    "To familiarize yourself with an iPython Notebook, **try double clicking on this cell**. You will notice that the text changes so that all the formatting is removed. This allows you to make edits to the block of text you see here. This block of text (and mostly anything that's not code) is written using [Markdown](http://daringfireball.net/projects/markdown/syntax), which is a way to format text using headers, links, italics, and many other options! Whether you're editing a Markdown text block or a code block (like the one below), you can use the keyboard shortcut **Shift + Enter** or **Shift + Return** to execute the code or text block. In this case, it will show the formatted text.\n",
    "\n",
    "Let's start by setting up some code we will need to get the rest of the project up and running. Use the keyboard shortcut mentioned above on the following code block to execute it. Alternatively, depending on your iPython Notebook program, you can press the **Play** button in the hotbar. You'll know the code block executes successfully if the message *\"Boston Housing dataset loaded successfully!\"* is printed."
   ]
  },
  {
   "cell_type": "code",
   "execution_count": 1,
   "metadata": {
    "collapsed": false
   },
   "outputs": [
    {
     "name": "stdout",
     "output_type": "stream",
     "text": [
      "Boston Housing dataset loaded successfully!\n"
     ]
    }
   ],
   "source": [
    "# Importing a few necessary libraries\n",
    "import numpy as np\n",
    "import matplotlib.pyplot as pl\n",
    "from sklearn import datasets\n",
    "from sklearn.tree import DecisionTreeRegressor\n",
    "\n",
    "# Make matplotlib show our plots inline (nicely formatted in the notebook)\n",
    "%matplotlib inline\n",
    "\n",
    "# Create our client's feature set for which we will be predicting a selling price\n",
    "CLIENT_FEATURES = [[11.95, 0.00, 18.100, 0, 0.6590, 5.6090, 90.00, 1.385, 24, 680.0, 20.20, 332.09, 12.13]]\n",
    "\n",
    "# Load the Boston Housing dataset into the city_data variable\n",
    "city_data = datasets.load_boston()\n",
    "\n",
    "# Initialize the housing prices and housing features\n",
    "housing_prices = city_data.target\n",
    "housing_features = city_data.data\n",
    "\n",
    "print(\"Boston Housing dataset loaded successfully!\")"
   ]
  },
  {
   "cell_type": "raw",
   "metadata": {},
   "source": [
    "#### Statistical Analysis and Data Exploration\n",
    "In this first section of the project, you will quickly investigate a few basic statistics about the dataset you are working with. In addition, you'll look at the client's feature set in `CLIENT_FEATURES` and see how this particular sample relates to the features of the dataset. Familiarizing yourself with the data through an explorative process is a fundamental practice to help you better understand your results."
   ]
  },
  {
   "cell_type": "markdown",
   "metadata": {},
   "source": [
    "##Step 1\n",
    "In the code block below, use the imported `numpy` library to calculate the requested statistics. You will need to replace each `None` you find with the appropriate `numpy` coding for the proper statistic to be printed. Be sure to execute the code block each time to test if your implementation is working successfully. The print statements will show the statistics you calculate!"
   ]
  },
  {
   "cell_type": "markdown",
   "metadata": {},
   "source": [
    "## Feature exploration notes (2/14/16)\n",
    "\n",
    "When calling city_data on its own, the features of the\n",
    "data set are described in the following way:\n",
    "    \n",
    "    >>>city_data\n",
    "    \n",
    "    {'target': array([...]),\n",
    "    'feature_names': array(['CRIM', 'ZN', 'INDUS', 'CHAS',\n",
    "                           'NOX', 'RM', 'AGE', 'DIS', 'RAD',\n",
    "                           'TAX', 'PTRATIO', 'B', 'LSTAT'],\n",
    "                           dtype='<U7'),\n",
    "    'data': array([[...], [...], [...], [...],\n",
    "                   [...], [...], ...]),\n",
    "    'DESCR': \"...\"}\n",
    "\n",
    "Where,\n",
    "\n",
    ">city_data['target'].shape\n",
    "\n",
    ">(506,)\n",
    "\n",
    "And,\n",
    "\n",
    ">city_data['data'].shape\n",
    "\n",
    ">(506, 13)\n",
    "\n",
    "Further, >>>city_data['DESCR'] returns a string which, after\n",
    "replacing the \\n markup with carriage returns reads:\n",
    "\n",
    ">city_data['DESCR']\n",
    "    \n",
    "    \"Boston House Prices dataset\n",
    "\n",
    "Notes\n",
    "------\n",
    "Data Set Characteristics: \n",
    "\n",
    " :Number of Instances: 506 \n",
    "\n",
    " :Number of Attributes: 13 numeric/categorica l predictive\n",
    " \n",
    " :Median Value (attribute 14) is usually the target\n",
    "\n",
    " :Attribute Information (in order):\n",
    " - CRIM per capita crime rate b y town\n",
    " - ZN proportion of residential land zoned for lots over 25 ,000 sq.ft.\n",
    " - INDUS proportion of non-retail business acres per town \n",
    " - CHAS Charles River dummy variable (= 1 if tract bounds river; 0 otherwise)\n",
    " - NOX nitric oxides concentration (parts per 10 million )\n",
    " - RM average number of rooms per dwelling\n",
    " - AGE p roportion of owner-occupied units built prior to 1940\n",
    " - DIS weight ed distances to five Boston employment centres\n",
    " - RAD index of acce ssibility to radial highways\n",
    " - TAX full-value property-tax rate pe r $10,000\n",
    " - PTRATIO pupil-teacher ratio by town\n",
    " - B 10 00(Bk - 0.63)^2 where Bk is the proportion of blacks by town\n",
    " - LSTAT % lower status of the population\n",
    " - MEDV Median value of owner-occu pied homes in $1000's\n",
    "\n",
    " :Missing Attribute Values: None\n",
    "\n",
    " :Creator: Ha rrison, D. and Rubinfeld, D.L.\n",
    "\n",
    "This is a copy of UCI ML housing dataset.\n",
    "htt p://archive.ics.uci.edu/ml/datasets/Housing\n",
    "\n",
    "\n",
    "This dataset was taken from the StatLib library which is maintained at Carnegie Mellon University.\n",
    "\n",
    "The Bosto n house-price data of Harrison, D. and Rubinfeld, D.L. 'Hedonic\n",
    "prices and the demand for clean air', J. Environ. Economics & Management,\n",
    "vol.5, 81-102, 1978. Used in Belsley, Kuh & Welsch, 'Regression diagnostics\n",
    "...', Wiley, 1980. N.B. Various transformations are used in the table on\n",
    "pages 244-261 of the latt er.\n",
    "\n",
    "The Boston house-price data has been used in many machine learning papers that address regression\n",
    "problems. \n",
    " \n",
    "**References**\n",
    "\n",
    " - Belsley, K uh & Welsch, 'Regression diagnostics: Identifying Influential Data and Sources o f Collinearity', Wiley, 1980. 244-261.\n",
    " - Quinlan,R. (1993). Combining Instan ce-Based and Model-Based Learning. In Proceedings on the Tenth International Con ference of Machine Learning, 236-243, University of Massachusetts, Amherst. Morg an Kaufmann.\n",
    " - many more! (see http://archive.ics.uci.edu/ml/datasets/Housin g)\n",
    "\"\n",
    "\n",
    "-------------END NOTES SECTION (DL 2/14/16)-------------"
   ]
  },
  {
   "cell_type": "code",
   "execution_count": 4,
   "metadata": {
    "collapsed": false
   },
   "outputs": [
    {
     "name": "stdout",
     "output_type": "stream",
     "text": [
      "Boston Housing dataset statistics (in $1000's):\n",
      "\n",
      "Total number of houses: 506\n",
      "Total number of features: 13\n",
      "Minimum house price: 5.0\n",
      "Maximum house price: 50.0\n",
      "Mean house price: 22.533\n",
      "Median house price: 21.2\n",
      "Standard deviation of house price: 9.188\n"
     ]
    }
   ],
   "source": [
    "# Number of houses in the dataset\n",
    "total_houses = housing_prices.shape[0]\n",
    "\n",
    "# Number of features in the dataset\n",
    "total_features = housing_features.shape[1]\n",
    "\n",
    "# Minimum housing value in the dataset\n",
    "minimum_price = np.ndarray.min(housing_prices)\n",
    "\n",
    "# Maximum housing value in the dataset\n",
    "maximum_price = np.ndarray.max(housing_prices)\n",
    "\n",
    "# Mean house value of the dataset\n",
    "mean_price = np.ndarray.mean(housing_prices)\n",
    "\n",
    "# Median house value of the dataset\n",
    "median_price = np.median(housing_prices)\n",
    "\n",
    "# Standard deviation of housing values of the dataset\n",
    "std_dev = np.ndarray.std(housing_prices)\n",
    "\n",
    "# Show the calculated statistics\n",
    "print(\"Boston Housing dataset statistics (in $1000's):\\n\")\n",
    "print(\"Total number of houses:\", total_houses)\n",
    "print(\"Total number of features:\", total_features)\n",
    "print(\"Minimum house price:\", minimum_price)\n",
    "print(\"Maximum house price:\", maximum_price)\n",
    "print(\"Mean house price: {0:.3f}\".format(mean_price))\n",
    "print(\"Median house price:\", median_price)\n",
    "print(\"Standard deviation of house price: {0:.3f}\".format(std_dev))"
   ]
  },
  {
   "cell_type": "markdown",
   "metadata": {},
   "source": [
    "##Question 1\n",
    "As a reminder, you can view a description of the Boston Housing dataset [here](https://archive.ics.uci.edu/ml/datasets/Housing), where you can find the different features under **Attribute Information**. The `MEDV` attribute relates to the values stored in our `housing_prices` variable, so we do not consider that a feature of the data.\n",
    "\n",
    "*Of the features available for each data point, choose three that you feel are significant and give a brief description for each of what they measure.*\n",
    "\n",
    "Remember, you can **double click the text box below** to add your answer!"
   ]
  },
  {
   "cell_type": "markdown",
   "metadata": {},
   "source": [
    "**NOTE**\n",
    "Before choosing three features to use for prediction of the MEDV attribute of our client data, I feel like it would be wise\n",
    "to explore the data a bit more before jumping in. See the code, graphs, and explanation below to see how I explored their relationships beforehand."
   ]
  },
  {
   "cell_type": "code",
   "execution_count": 62,
   "metadata": {
    "collapsed": false
   },
   "outputs": [
    {
     "data": {
      "image/png": "[encoded data removed]",
      "text/plain": [
       "<matplotlib.figure.Figure at 0x85dc518>"
      ]
     },
     "metadata": {},
     "output_type": "display_data"
    }
   ],
   "source": [
    "#Feature Exploration\n",
    "\n",
    "## Lists the feature categories\n",
    "feature_list = ['CRIM', 'ZN', 'INDUS', 'CHAS', 'NOX', 'RM', 'AGE', 'DIS', 'RAD', 'TAX', 'PTRATIO', 'B', 'LSTAT']\n",
    "\n",
    "## Split the dataset into isolated arrays\n",
    "## (Most of this could have been done using loops,\n",
    "## but I felt that it was more readable this way\n",
    "## despite being verbose)\n",
    "\n",
    "CRIM = housing_features[:, 0]\n",
    "ZN = housing_features[:, 1]\n",
    "INDUS = housing_features[:, 2]\n",
    "CHAS = housing_features[:, 3]\n",
    "NOX = housing_features[:, 4]\n",
    "RM = housing_features[:, 5]\n",
    "AGE = housing_features[:, 6]\n",
    "DIS = housing_features[:, 7]\n",
    "RAD = housing_features[:, 8]\n",
    "TAX = housing_features[:, 9]\n",
    "PTRATIO = housing_features[:, 10]\n",
    "B = housing_features[:, 11]\n",
    "LSTAT = housing_features[:, 12]\n",
    "\n",
    "## Join the feature arrays with the housing_prices array\n",
    "MEDV_CRIM = np.array([housing_prices, CRIM])\n",
    "MEDV_ZN = np.array([housing_prices, ZN])\n",
    "MEDV_INDUS = np.array([housing_prices, INDUS])\n",
    "MEDV_CHAS = np.array([housing_prices, CHAS])\n",
    "MEDV_NOX = np.array([housing_prices, NOX])\n",
    "MEDV_RM = np.array([housing_prices, RM])\n",
    "MEDV_AGE = np.array([housing_prices, AGE])\n",
    "MEDV_DIS = np.array([housing_prices, DIS])\n",
    "MEDV_RAD = np.array([housing_prices, RAD])\n",
    "MEDV_TAX = np.array([housing_prices, TAX])\n",
    "MEDV_PTRATIO = np.array([housing_prices, PTRATIO])\n",
    "MEDV_B = np.array([housing_prices, B])\n",
    "MEDV_LSTAT = np.array([housing_prices, LSTAT])\n",
    "\n",
    "\n",
    "## Sort each feature according to ascending housing_prices...\n",
    "## Or... nope. I think this sorts the feature's data itself.\n",
    "## I'll fix this later!\n",
    "sorted_housing_prices = np.sort(housing_prices)\n",
    "sorted_CRIM = np.sort(MEDV_CRIM)[1,:]\n",
    "sorted_ZN = np.sort(MEDV_ZN)[1,:]\n",
    "sorted_INDUS = np.sort(MEDV_INDUS)[1,:]\n",
    "sorted_CHAS = np.sort(MEDV_CHAS)[1,:]\n",
    "sorted_NOX = np.sort(MEDV_NOX)[1,:]\n",
    "sorted_RM = np.sort(MEDV_RM)[1,:]\n",
    "sorted_AGE = np.sort(MEDV_AGE)[1,:]\n",
    "sorted_DIS = np.sort(MEDV_DIS)[1,:]\n",
    "sorted_RAD = np.sort(MEDV_RAD)[1,:]\n",
    "sorted_TAX = np.sort(MEDV_TAX)[1,:]\n",
    "sorted_PTRATIO = np.sort(MEDV_PTRATIO)[1,:]\n",
    "sorted_B = np.sort(MEDV_B)[1,:]\n",
    "sorted_LSTAT = np.sort(MEDV_LSTAT)[1,:]\n",
    "\n",
    "## Graph each the data from each feature in ascending order such that it can be compared to the top-left plot: housing_prices\n",
    "pl.subplot(221)\n",
    "pl.plot(sorted_housing_prices)\n",
    "pl.title('Prices')\n",
    "pl.tight_layout()\n",
    "\n",
    "pl.subplot(222)\n",
    "pl.plot(sorted_CRIM)\n",
    "pl.title('CRIM')\n",
    "pl.tight_layout()\n",
    "\n",
    "pl.subplot(223)\n",
    "pl.plot(sorted_ZN)\n",
    "pl.title('ZN')\n",
    "pl.tight_layout()\n",
    "\n",
    "pl.subplot(224)\n",
    "pl.plot(sorted_INDUS)\n",
    "pl.title('INDUS')\n",
    "pl.tight_layout()\n",
    "\n",
    "pl.show()"
   ]
  },
  {
   "cell_type": "code",
   "execution_count": 10,
   "metadata": {
    "collapsed": false
   },
   "outputs": [
    {
     "data": {
      "image/png": "[encoded data removed]",
      "text/plain": [
       "<matplotlib.figure.Figure at 0x88e09b0>"
      ]
     },
     "metadata": {},
     "output_type": "display_data"
    }
   ],
   "source": [
    "pl.subplot(221)\n",
    "pl.plot(sorted_housing_prices)\n",
    "pl.title('Prices')\n",
    "pl.tight_layout()\n",
    "\n",
    "pl.subplot(222)\n",
    "pl.scatter(sorted_housing_prices, sorted_CHAS)\n",
    "pl.title('CHAS')\n",
    "pl.tight_layout()\n",
    "\n",
    "pl.subplot(223)\n",
    "pl.plot(sorted_NOX)\n",
    "pl.title('NOX')\n",
    "pl.tight_layout()\n",
    "\n",
    "pl.subplot(224)\n",
    "pl.plot(sorted_RM)\n",
    "pl.title('RM')\n",
    "pl.tight_layout()\n",
    "\n",
    "pl.show()"
   ]
  },
  {
   "cell_type": "code",
   "execution_count": 11,
   "metadata": {
    "collapsed": false
   },
   "outputs": [
    {
     "data": {
      "image/png": "[encoded data removed]",
      "text/plain": [
       "<matplotlib.figure.Figure at 0x9bd9c18>"
      ]
     },
     "metadata": {},
     "output_type": "display_data"
    }
   ],
   "source": [
    "pl.subplot(221)\n",
    "pl.plot(sorted_housing_prices)\n",
    "pl.title('Prices')\n",
    "pl.tight_layout()\n",
    "\n",
    "pl.subplot(222)\n",
    "pl.plot(sorted_AGE)\n",
    "pl.title('AGE')\n",
    "pl.tight_layout()\n",
    "\n",
    "pl.subplot(223)\n",
    "pl.plot(sorted_DIS)\n",
    "pl.title('DIS')\n",
    "pl.tight_layout()\n",
    "\n",
    "pl.subplot(224)\n",
    "pl.plot(sorted_RAD)\n",
    "pl.title('RAD')\n",
    "pl.tight_layout()\n",
    "\n",
    "pl.show()"
   ]
  },
  {
   "cell_type": "code",
   "execution_count": 12,
   "metadata": {
    "collapsed": false
   },
   "outputs": [
    {
     "data": {
      "image/png": "[encoded data removed]",
      "text/plain": [
       "<matplotlib.figure.Figure at 0x88e0550>"
      ]
     },
     "metadata": {},
     "output_type": "display_data"
    }
   ],
   "source": [
    "pl.subplot(221)\n",
    "pl.plot(sorted_housing_prices)\n",
    "pl.title('Prices')\n",
    "pl.tight_layout()\n",
    "\n",
    "pl.subplot(222)\n",
    "pl.plot(sorted_TAX)\n",
    "pl.title('TAX')\n",
    "pl.tight_layout()\n",
    "\n",
    "pl.subplot(223)\n",
    "pl.plot(sorted_PTRATIO)\n",
    "pl.title('PTRATIO')\n",
    "pl.tight_layout()\n",
    "\n",
    "pl.subplot(224)\n",
    "pl.plot(sorted_B)\n",
    "pl.title('B')\n",
    "pl.tight_layout()\n",
    "\n",
    "pl.show()"
   ]
  },
  {
   "cell_type": "code",
   "execution_count": 14,
   "metadata": {
    "collapsed": false
   },
   "outputs": [
    {
     "data": {
      "image/png": "[encoded data removed]",
      "text/plain": [
       "<matplotlib.figure.Figure at 0x9a307b8>"
      ]
     },
     "metadata": {},
     "output_type": "display_data"
    }
   ],
   "source": [
    "\n",
    "pl.subplot(221)\n",
    "pl.plot(sorted_housing_prices)\n",
    "pl.title('Prices')\n",
    "pl.tight_layout()\n",
    "\n",
    "pl.subplot(222)\n",
    "pl.plot(sorted_LSTAT)\n",
    "pl.title('LSTAT')\n",
    "pl.tight_layout()\n",
    "\n",
    "pl.show()"
   ]
  },
  {
   "cell_type": "code",
   "execution_count": 53,
   "metadata": {
    "collapsed": false
   },
   "outputs": [
    {
     "name": "stdout",
     "output_type": "stream",
     "text": [
      "Pearson Product-Moment Correlation Coefficients\n",
      "-----------------------------------------------\n",
      "CRIM:\t -0.385831689884\n",
      "ZN:\t 0.360445342451\n",
      "INDUS:\t -0.483725160028\n",
      "CHAS:\t 0.17526017719\n",
      "NOX:\t -0.427320772373\n",
      "RM:\t 0.695359947072\n",
      "AGE:\t -0.376954565005\n",
      "DIS:\t 0.249928734086\n",
      "RAD:\t -0.38162623064\n",
      "TAX:\t -0.468535933568\n",
      "PTRATIO: -0.507786685538\n",
      "B: \t 0.333460819657\n",
      "LSTAT:\t -0.737662726174\n",
      "\n",
      "\n",
      "numpy.stats.pearsonr Correlation Function p-value\n",
      "-------------------------------------------------\n",
      "CRIM:\t 2.08355011081e-19\n",
      "ZN:\t 5.71358415308e-17\n",
      "INDUS:\t 4.90025998175e-31\n",
      "CHAS:\t 7.39062317052e-05\n",
      "NOX:\t 7.06504158625e-24\n",
      "RM:\t 2.48722887101e-74\n",
      "AGE:\t 1.56998220919e-18\n",
      "DIS:\t 1.20661172734e-08\n",
      "RAD:\t 5.46593256965e-19\n",
      "TAX:\t 5.63773362769e-29\n",
      "PTRATIO: 1.60950947847e-34\n",
      "B: \t 1.31811273408e-14\n",
      "LSTAT:\t 5.08110339439e-88\n"
     ]
    }
   ],
   "source": [
    "# Correlation Exploration \n",
    "\n",
    "import scipy\n",
    "\n",
    "## Compute the pearson product-moment correlation coefficient for each feature\n",
    "\n",
    "categories = ['CRIM', 'ZN', 'INDUS', 'CHAS', 'NOX', 'RM', 'AGE', 'DIS', 'RAD', 'TAX', 'PTRATIO', 'B', 'LSTAT']\n",
    "\n",
    "corrcoef_CRIM = np.corrcoef(housing_prices, CRIM)\n",
    "corrcoef_ZN = np.corrcoef(housing_prices, ZN)\n",
    "corrcoef_INDUS = np.corrcoef(housing_prices, INDUS)\n",
    "corrcoef_CHAS = np.corrcoef(housing_prices, CHAS)\n",
    "corrcoef_NOX = np.corrcoef(housing_prices, NOX)\n",
    "corrcoef_RM = np.corrcoef(housing_prices, RM)\n",
    "corrcoef_AGE = np.corrcoef(housing_prices, AGE)\n",
    "corrcoef_DIS = np.corrcoef(housing_prices, DIS)\n",
    "corrcoef_RAD = np.corrcoef(housing_prices, RAD)\n",
    "corrcoef_TAX = np.corrcoef(housing_prices, TAX)\n",
    "corrcoef_PTRATIO = np.corrcoef(housing_prices, PTRATIO)\n",
    "corrcoef_B = np.corrcoef(housing_prices, B)\n",
    "corrcoef_LSTAT = np.corrcoef(housing_prices, LSTAT)\n",
    "\n",
    "pearson_CRIM = scipy.stats.pearsonr(housing_prices, CRIM)\n",
    "pearson_ZN = scipy.stats.pearsonr(housing_prices, ZN)\n",
    "pearson_INDUS = scipy.stats.pearsonr(housing_prices, INDUS)\n",
    "pearson_CHAS = scipy.stats.pearsonr(housing_prices, CHAS)\n",
    "pearson_NOX = scipy.stats.pearsonr(housing_prices, NOX)\n",
    "pearson_RM = scipy.stats.pearsonr(housing_prices, RM)\n",
    "pearson_AGE = scipy.stats.pearsonr(housing_prices, AGE)\n",
    "pearson_DIS = scipy.stats.pearsonr(housing_prices, DIS)\n",
    "pearson_RAD = scipy.stats.pearsonr(housing_prices, RAD)\n",
    "pearson_TAX = scipy.stats.pearsonr(housing_prices, TAX)\n",
    "pearson_PTRATIO = scipy.stats.pearsonr(housing_prices, PTRATIO)\n",
    "pearson_B = scipy.stats.pearsonr(housing_prices, B)\n",
    "pearson_LSTAT = scipy.stats.pearsonr(housing_prices, LSTAT)\n",
    "\n",
    "## Prints a brief summary of the correlation exploration\n",
    "\n",
    "print(\"Pearson Product-Moment Correlation Coefficients\")\n",
    "print(\"-----------------------------------------------\")\n",
    "print(\"CRIM:\\t\", pearson_CRIM[0])\n",
    "print(\"ZN:\\t\", pearson_ZN[0])\n",
    "print(\"INDUS:\\t\", pearson_INDUS[0])\n",
    "print(\"CHAS:\\t\", pearson_CHAS[0])\n",
    "print(\"NOX:\\t\", pearson_NOX[0])\n",
    "print(\"RM:\\t\", pearson_RM[0])\n",
    "print(\"AGE:\\t\", pearson_AGE[0])\n",
    "print(\"DIS:\\t\", pearson_DIS[0])\n",
    "print(\"RAD:\\t\", pearson_RAD[0])\n",
    "print(\"TAX:\\t\", pearson_TAX[0])\n",
    "print(\"PTRATIO:\", pearson_PTRATIO[0])\n",
    "print(\"B: \\t\", pearson_B[0])\n",
    "print(\"LSTAT:\\t\", pearson_LSTAT[0])\n",
    "\n",
    "print('\\n')\n",
    "\n",
    "print(\"numpy.stats.pearsonr Correlation Function p-value\")\n",
    "print(\"-------------------------------------------------\")\n",
    "print(\"CRIM:\\t\", pearson_CRIM[1])\n",
    "print(\"ZN:\\t\", pearson_ZN[1])\n",
    "print(\"INDUS:\\t\", pearson_INDUS[1])\n",
    "print(\"CHAS:\\t\", pearson_CHAS[1])\n",
    "print(\"NOX:\\t\", pearson_NOX[1])\n",
    "print(\"RM:\\t\", pearson_RM[1])\n",
    "print(\"AGE:\\t\", pearson_AGE[1])\n",
    "print(\"DIS:\\t\", pearson_DIS[1])\n",
    "print(\"RAD:\\t\", pearson_RAD[1])\n",
    "print(\"TAX:\\t\", pearson_TAX[1])\n",
    "print(\"PTRATIO:\", pearson_PTRATIO[1])\n",
    "print(\"B: \\t\", pearson_B[1])\n",
    "print(\"LSTAT:\\t\", pearson_LSTAT[1])"
   ]
  },
  {
   "cell_type": "code",
   "execution_count": 68,
   "metadata": {
    "collapsed": false
   },
   "outputs": [
    {
     "data": {
      "image/png": "[encoded data removed]",
      "text/plain": [
       "<matplotlib.figure.Figure at 0x7fb9da0>"
      ]
     },
     "metadata": {},
     "output_type": "display_data"
    }
   ],
   "source": [
    "## Correlation Exploration Scatterplots\n",
    "\n",
    "## Plots the feature data relative to housing_prices on the X-axis\n",
    "## with a horizontal line indicating the value indicated in the CLIENT_FEATURES array\n",
    "pl.subplot(221)\n",
    "pl.scatter(housing_prices, housing_prices)\n",
    "pl.title('Prices')\n",
    "pl.tight_layout()\n",
    "\n",
    "pl.subplot(222)\n",
    "pl.scatter(housing_prices, CRIM)\n",
    "pl.title('CRIM')\n",
    "pl.tight_layout()\n",
    "pl.hlines(CLIENT_FEATURES[0][0], 0, 50)\n",
    "\n",
    "pl.subplot(223)\n",
    "pl.scatter(housing_prices, ZN)\n",
    "pl.title('ZN')\n",
    "pl.tight_layout()\n",
    "pl.hlines(CLIENT_FEATURES[0][1], 0, 50)\n",
    "\n",
    "pl.subplot(224)\n",
    "pl.scatter(housing_prices, INDUS)\n",
    "pl.title('INDUS')\n",
    "pl.tight_layout()\n",
    "pl.hlines(CLIENT_FEATURES[0][2], 0, 50)\n",
    "\n",
    "pl.show()"
   ]
  },
  {
   "cell_type": "code",
   "execution_count": 69,
   "metadata": {
    "collapsed": false
   },
   "outputs": [
    {
     "data": {
      "image/png": "[encoded data removed]",
      "text/plain": [
       "<matplotlib.figure.Figure at 0x7fc2240>"
      ]
     },
     "metadata": {},
     "output_type": "display_data"
    }
   ],
   "source": [
    "pl.subplot(221)\n",
    "pl.scatter(housing_prices, CHAS)\n",
    "pl.title('CHAS')\n",
    "pl.tight_layout()\n",
    "pl.hlines(CLIENT_FEATURES[0][3], 0, 50)\n",
    "\n",
    "pl.subplot(222)\n",
    "pl.scatter(housing_prices, NOX)\n",
    "pl.title('NOX')\n",
    "pl.tight_layout()\n",
    "pl.hlines(CLIENT_FEATURES[0][4], 0, 50)\n",
    "\n",
    "pl.subplot(223)\n",
    "pl.scatter(housing_prices, RM)\n",
    "pl.title('RM')\n",
    "pl.tight_layout()\n",
    "pl.hlines(CLIENT_FEATURES[0][5], 0, 50)\n",
    "\n",
    "pl.subplot(224)\n",
    "pl.scatter(housing_prices, AGE)\n",
    "pl.title('AGE')\n",
    "pl.tight_layout()\n",
    "pl.hlines(CLIENT_FEATURES[0][6], 0, 50)\n",
    "\n",
    "pl.show()"
   ]
  },
  {
   "cell_type": "code",
   "execution_count": 70,
   "metadata": {
    "collapsed": false
   },
   "outputs": [
    {
     "data": {
      "image/png": "[encoded data removed]",
      "text/plain": [
       "<matplotlib.figure.Figure at 0x9ab9ba8>"
      ]
     },
     "metadata": {},
     "output_type": "display_data"
    }
   ],
   "source": [
    "pl.subplot(221)\n",
    "pl.scatter(housing_prices, DIS)\n",
    "pl.title('DIS')\n",
    "pl.tight_layout()\n",
    "pl.hlines(CLIENT_FEATURES[0][7], 0, 50)\n",
    "\n",
    "pl.subplot(222)\n",
    "pl.scatter(housing_prices, RAD)\n",
    "pl.title('RAD')\n",
    "pl.tight_layout()\n",
    "pl.hlines(CLIENT_FEATURES[0][8], 0, 50)\n",
    "\n",
    "pl.subplot(223)\n",
    "pl.scatter(housing_prices, TAX)\n",
    "pl.title('TAX')\n",
    "pl.tight_layout()\n",
    "pl.hlines(CLIENT_FEATURES[0][9], 0, 50)\n",
    "\n",
    "pl.subplot(224)\n",
    "pl.scatter(housing_prices, PTRATIO)\n",
    "pl.title('PTRATIO')\n",
    "pl.tight_layout()\n",
    "pl.hlines(CLIENT_FEATURES[0][10], 0, 50)\n",
    "\n",
    "pl.show()"
   ]
  },
  {
   "cell_type": "code",
   "execution_count": 71,
   "metadata": {
    "collapsed": false
   },
   "outputs": [
    {
     "data": {
      "image/png": "[encoded data removed]",
      "text/plain": [
       "<matplotlib.figure.Figure at 0x8524668>"
      ]
     },
     "metadata": {},
     "output_type": "display_data"
    }
   ],
   "source": [
    "pl.subplot(221)\n",
    "pl.scatter(housing_prices, B)\n",
    "pl.title('B')\n",
    "pl.tight_layout()\n",
    "pl.hlines(CLIENT_FEATURES[0][11], 0, 50)\n",
    "\n",
    "pl.subplot(222)\n",
    "pl.scatter(housing_prices, LSTAT)\n",
    "pl.title('LSTAT')\n",
    "pl.tight_layout()\n",
    "pl.hlines(CLIENT_FEATURES[0][12], 0, 50)\n",
    "\n",
    "pl.show()"
   ]
  },
  {
   "cell_type": "markdown",
   "metadata": {},
   "source": [
    "**Answer: **\n",
    "Having visually compared the shape of the housing_prices data, once sorted, with the data in each of the feature sets, I have\n",
    "found a variety of potential correlations. I have ranked them below, 1 being the most similar, according to how closely they relate to the data without transformations of any sort (log transform of data might have yielded visually discernable patterns, but I want this to be quick and loose).\n",
    "\n",
    "1 = RM (Very smooth, and very similar shape)\n",
    "2 = \n",
    "3 = DIS (Poor left tail correlation, but better right tail correlation than RM)\n",
    "4 = \n",
    "5 = LSTAT (Great right tail correlation, but highly linear in the first half of the data set)\n",
    "6 = \n",
    "7 = PTRATIO (Moderately effective on the left tail, but logistic nature does not match the right tail's rising gradient)\n",
    "8 = TAX (Plateau from tax bracket cutoff causes a discontinuity that makes it less correlational)\n",
    "9 = \n",
    "10 = \n",
    "11 = \n",
    "12 = \n",
    "13 = B (Number one, the correlation to the graph as a whole is terrible. Number two, it's a bit racist. However, for the record, the range in which the values are low do, unfortunately, coincide with the range in which the gradient declines toward the linear value. It might be possible to use this fact to gain accuracy in predicting the bottom 10% of the data set. However, since the CLIENT_FEATURES value for B is 332.09, it would not strongly place it into the lower 10% range of the data. On the contrary, this data point lies in a section where the gradient begins to level out, and it would therefore be much harder to use this function as a predictor of price, given the differential of the price being quite small as you increment either direction in B from that point.) "
   ]
  },
  {
   "cell_type": "markdown",
   "metadata": {},
   "source": [
    "##Question 2\n",
    "*Using your client's feature set `CLIENT_FEATURES`, which values correspond with the features you've chosen above?*  \n",
    "**Hint: ** Run the code block below to see the client's data."
   ]
  },
  {
   "cell_type": "code",
   "execution_count": 51,
   "metadata": {
    "collapsed": false
   },
   "outputs": [
    {
     "name": "stdout",
     "output_type": "stream",
     "text": [
      "[[11.95, 0.0, 18.1, 0, 0.659, 5.609, 90.0, 1.385, 24, 680.0, 20.2, 332.09, 12.13]]\n"
     ]
    }
   ],
   "source": [
    "print(CLIENT_FEATURES)"
   ]
  },
  {
   "cell_type": "markdown",
   "metadata": {},
   "source": [
    "**Answer: **"
   ]
  },
  {
   "cell_type": "markdown",
   "metadata": {},
   "source": [
    "#Evaluating Model Performance\n",
    "In this second section of the project, you will begin to develop the tools necessary for a model to make a prediction. Being able to accurately evaluate each model's performance through the use of these tools helps to greatly reinforce the confidence in your predictions."
   ]
  },
  {
   "cell_type": "markdown",
   "metadata": {},
   "source": [
    "##Step 2\n",
    "In the code block below, you will need to implement code so that the `shuffle_split_data` function does the following:\n",
    "- Randomly shuffle the input data `X` and target labels (housing values) `y`.\n",
    "- Split the data into training and testing subsets, holding 30% of the data for testing.\n",
    "\n",
    "If you use any functions not already acessible from the imported libraries above, remember to include your import statement below as well!  \n",
    "Ensure that you have executed the code block once you are done. You'll know if the `shuffle_split_data` function is working if the statement *\"Successfully shuffled and split the data!\"* is printed."
   ]
  },
  {
   "cell_type": "code",
   "execution_count": 4,
   "metadata": {
    "collapsed": false
   },
   "outputs": [
    {
     "name": "stdout",
     "output_type": "stream",
     "text": [
      "Successfully shuffled and split the data!\n"
     ]
    }
   ],
   "source": [
    "# Put any import statements you need for this code block here\n",
    "from sklearn import cross_validation\n",
    "\n",
    "\n",
    "def shuffle_split_data(X, y):\n",
    "    \"\"\" Shuffles and splits data into 70% training and 30% testing subsets,\n",
    "        then returns the training and testing subsets. \"\"\"\n",
    "\n",
    "    # Shuffle and split the data n_iter times\n",
    "    rs = cross_validation.ShuffleSplit(len(y), n_iter=1, test_size=0.3, random_state=0)\n",
    "    \n",
    "    for train_index, test_index in rs:\n",
    "        X_train = X[train_index]\n",
    "        y_train = y[train_index]\n",
    "        X_test = X[test_index]\n",
    "        y_test = y[test_index]\n",
    "\n",
    "    # Return the training and testing data subsets\n",
    "    return X_train, y_train, X_test, y_test\n",
    "\n",
    "# Test shuffle_split_data\n",
    "try:\n",
    "    X_train, y_train, X_test, y_test = shuffle_split_data(housing_features, housing_prices)\n",
    "    print(\"Successfully shuffled and split the data!\")\n",
    "except:\n",
    "    print(\"Something went wrong with shuffling and splitting the data.\")"
   ]
  },
  {
   "cell_type": "markdown",
   "metadata": {},
   "source": [
    "##Question 4\n",
    "*Why do we split the data into training and testing subsets for our model?*"
   ]
  },
  {
   "cell_type": "markdown",
   "metadata": {},
   "source": [
    "**Answer: **\n",
    "The largest benefit to splitting data into training and testing subsets is that doing so allows you to evaluate the performance of a model in the spaces between and, possibly, outside the spaces that the training data accounted for while fitting a model to these each round of training points. This way, if the model begins to overfit a model to the training data it will have data outside this space which will be outside of the predicted range in the testing data, thereby penalizing the model relative to the nature of the performance metric chosen."
   ]
  },
  {
   "cell_type": "markdown",
   "metadata": {},
   "source": [
    "##Step 3\n",
    "In the code block below, you will need to implement code so that the `performance_metric` function does the following:\n",
    "- Perform a total error calculation between the true values of the `y` labels `y_true` and the predicted values of the `y` labels `y_predict`.\n",
    "\n",
    "You will need to first choose an appropriate performance metric for this problem. See [the sklearn metrics documentation](http://scikit-learn.org/stable/modules/classes.html#sklearn-metrics-metrics) to view a list of available metric functions. **Hint: ** Look at the question below to see a list of the metrics that were covered in the supporting course for this project.\n",
    "\n",
    "Once you have determined which metric you will use, remember to include the necessary import statement as well!  \n",
    "Ensure that you have executed the code block once you are done. You'll know if the `performance_metric` function is working if the statement *\"Successfully performed a metric calculation!\"* is printed."
   ]
  },
  {
   "cell_type": "code",
   "execution_count": 7,
   "metadata": {
    "collapsed": false
   },
   "outputs": [
    {
     "name": "stdout",
     "output_type": "stream",
     "text": [
      "Successfully performed a metric calculation!\n"
     ]
    }
   ],
   "source": [
    "# Put any import statements you need for this code block here\n",
    "from sklearn.metrics import mean_squared_error\n",
    "\n",
    "def performance_metric(y_true, y_predict):\n",
    "    \"\"\" Calculates and returns the total error between true and predicted values\n",
    "        based on a performance metric chosen by the student. \"\"\"\n",
    "\n",
    "    error = mean_squared_error(y_true, y_predict)\n",
    "    return error\n",
    "\n",
    "\n",
    "# Test performance_metric\n",
    "try:\n",
    "    total_error = performance_metric(y_train, y_train)\n",
    "    print(\"Successfully performed a metric calculation!\")\n",
    "except:\n",
    "    print(\"Something went wrong with performing a metric calculation.\")"
   ]
  },
  {
   "cell_type": "markdown",
   "metadata": {},
   "source": [
    "##Question 4\n",
    "*Which performance metric below did you find was most appropriate for predicting housing prices and analyzing the total error. Why?*\n",
    "- *Accuracy*\n",
    "- *Precision*\n",
    "- *Recall*\n",
    "- *F1 Score*\n",
    "- *Mean Squared Error (MSE)*\n",
    "- *Mean Absolute Error (MAE)*"
   ]
  },
  {
   "cell_type": "markdown",
   "metadata": {},
   "source": [
    "**Answer: **\n",
    "The Mean Squared Error would be the most applicable to this project. We can immediately rule out Accuracy, Precision, Recall, and the F1 score because these all evaluate the effectiveness of categorization. Meanwhile, that leaves us with the two remaining options that can be used to evaluate regression success: MSE and MAE. Mean absolute error and mean squared error mainly differ in the degree that they penalize being far off from the prediction-- MSE treats a value that is twice as far from the prediction as being four times as high error. This basically translates to a higher penalty for outlying predictions than if you were to use MAE. Since we some relatively noisy data as seen in the feature exploration notes, our model should benefit more from this squared penalty."
   ]
  },
  {
   "cell_type": "markdown",
   "metadata": {},
   "source": [
    "##Step 4 (Final Step)\n",
    "In the code block below, you will need to implement code so that the `fit_model` function does the following:\n",
    "- Create a scoring function using the same performance metric as in **Step 2**. See the [sklearn `make_scorer` documentation](http://scikit-learn.org/stable/modules/generated/sklearn.metrics.make_scorer.html).\n",
    "- Build a GridSearchCV object using `regressor`, `parameters`, and `scoring_function`. See the [sklearn documentation on GridSearchCV](http://scikit-learn.org/stable/modules/generated/sklearn.grid_search.GridSearchCV.html).\n",
    "\n",
    "When building the scoring function and GridSearchCV object, *be sure that you read the parameters documentation thoroughly.* It is not always the case that a default parameter for a function is the appropriate setting for the problem you are working on.\n",
    "\n",
    "Since you are using `sklearn` functions, remember to include the necessary import statements below as well!  \n",
    "Ensure that you have executed the code block once you are done. You'll know if the `fit_model` function is working if the statement *\"Successfully fit a model to the data!\"* is printed."
   ]
  },
  {
   "cell_type": "code",
   "execution_count": null,
   "metadata": {
    "collapsed": false
   },
   "outputs": [],
   "source": [
    "# Put any import statements you need for this code block\n",
    "\n",
    "def fit_model(X, y):\n",
    "    \"\"\" Tunes a decision tree regressor model using GridSearchCV on the input data X \n",
    "        and target labels y and returns this optimal model. \"\"\"\n",
    "\n",
    "    # Create a decision tree regressor object\n",
    "    regressor = DecisionTreeRegressor()\n",
    "\n",
    "    # Set up the parameters we wish to tune\n",
    "    parameters = {'max_depth':(1,2,3,4,5,6,7,8,9,10)}\n",
    "\n",
    "    # Make an appropriate scoring function\n",
    "    scoring_function = make_scorer(performance_metric)\n",
    "\n",
    "    # Make the GridSearchCV object\n",
    "    reg = grid_search.GridSearchCV(regressor, parameters)\n",
    "\n",
    "    # Fit the learner to the data to obtain the optimal model with tuned parameters\n",
    "    reg.fit(X, y)\n",
    "\n",
    "    # Return the optimal model\n",
    "    return reg\n",
    "\n",
    "\n",
    "# Test fit_model\n",
    "try:\n",
    "    reg = fit_model(X_train, y_train)\n",
    "    print \"Successfully fit a model!\"\n",
    "except:\n",
    "    print \"Something went wrong with fitting a model.\""
   ]
  },
  {
   "cell_type": "markdown",
   "metadata": {},
   "source": [
    "##Question 5\n",
    "*What is the grid search algorithm and when is it applicable?*"
   ]
  },
  {
   "cell_type": "markdown",
   "metadata": {},
   "source": [
    "**Answer: **"
   ]
  },
  {
   "cell_type": "markdown",
   "metadata": {},
   "source": [
    "##Question 6\n",
    "*What is cross-validation, and how is it performed on a model? Why would cross-validation be helpful when using grid search?*"
   ]
  },
  {
   "cell_type": "markdown",
   "metadata": {},
   "source": [
    "**Answer: **"
   ]
  },
  {
   "cell_type": "markdown",
   "metadata": {},
   "source": [
    "#Checkpoint!\n",
    "You have now successfully completed your last code implementation section. Pat yourself on the back! All of your functions written above will be executed in the remaining sections below, and questions will be asked about various results for you to analyze. To prepare the **Analysis** and **Prediction** sections, you will need to intialize the two functions below. Remember, there's no need to implement any more code, so sit back and execute the code blocks! Some code comments are provided if you find yourself interested in the functionality."
   ]
  },
  {
   "cell_type": "code",
   "execution_count": null,
   "metadata": {
    "collapsed": true
   },
   "outputs": [],
   "source": [
    "def learning_curves(X_train, y_train, X_test, y_test):\n",
    "    \"\"\" Calculates the performance of several models with varying sizes of training data.\n",
    "        The learning and testing error rates for each model are then plotted. \"\"\"\n",
    "    \n",
    "    print \"Creating learning curve graphs for max_depths of 1, 3, 6, and 10. . .\"\n",
    "    \n",
    "    # Create the figure window\n",
    "    fig = pl.figure(figsize=(10,8))\n",
    "\n",
    "    # We will vary the training set size so that we have 50 different sizes\n",
    "    sizes = np.round(np.linspace(1, len(X_train), 50))\n",
    "    train_err = np.zeros(len(sizes))\n",
    "    test_err = np.zeros(len(sizes))\n",
    "\n",
    "    # Create four different models based on max_depth\n",
    "    for k, depth in enumerate([1,3,6,10]):\n",
    "        \n",
    "        for i, s in enumerate(sizes):\n",
    "            \n",
    "            # Setup a decision tree regressor so that it learns a tree with max_depth = depth\n",
    "            regressor = DecisionTreeRegressor(max_depth = depth)\n",
    "            \n",
    "            # Fit the learner to the training data\n",
    "            regressor.fit(X_train[:s], y_train[:s])\n",
    "\n",
    "            # Find the performance on the training set\n",
    "            train_err[i] = performance_metric(y_train[:s], regressor.predict(X_train[:s]))\n",
    "            \n",
    "            # Find the performance on the testing set\n",
    "            test_err[i] = performance_metric(y_test, regressor.predict(X_test))\n",
    "\n",
    "        # Subplot the learning curve graph\n",
    "        ax = fig.add_subplot(2, 2, k+1)\n",
    "        ax.plot(sizes, test_err, lw = 2, label = 'Testing Error')\n",
    "        ax.plot(sizes, train_err, lw = 2, label = 'Training Error')\n",
    "        ax.legend()\n",
    "        ax.set_title('max_depth = %s'%(depth))\n",
    "        ax.set_xlabel('Number of Data Points in Training Set')\n",
    "        ax.set_ylabel('Total Error')\n",
    "        ax.set_xlim([0, len(X_train)])\n",
    "    \n",
    "    # Visual aesthetics\n",
    "    fig.suptitle('Decision Tree Regressor Learning Performances', fontsize=18, y=1.03)\n",
    "    fig.tight_layout()\n",
    "    fig.show()"
   ]
  },
  {
   "cell_type": "code",
   "execution_count": null,
   "metadata": {
    "collapsed": true
   },
   "outputs": [],
   "source": [
    "def model_complexity(X_train, y_train, X_test, y_test):\n",
    "    \"\"\" Calculates the performance of the model as model complexity increases.\n",
    "        The learning and testing errors rates are then plotted. \"\"\"\n",
    "    \n",
    "    print \"Creating a model complexity graph. . . \"\n",
    "\n",
    "    # We will vary the max_depth of a decision tree model from 1 to 14\n",
    "    max_depth = np.arange(1, 14)\n",
    "    train_err = np.zeros(len(max_depth))\n",
    "    test_err = np.zeros(len(max_depth))\n",
    "\n",
    "    for i, d in enumerate(max_depth):\n",
    "        # Setup a Decision Tree Regressor so that it learns a tree with depth d\n",
    "        regressor = DecisionTreeRegressor(max_depth = d)\n",
    "\n",
    "        # Fit the learner to the training data\n",
    "        regressor.fit(X_train, y_train)\n",
    "\n",
    "        # Find the performance on the training set\n",
    "        train_err[i] = performance_metric(y_train, regressor.predict(X_train))\n",
    "\n",
    "        # Find the performance on the testing set\n",
    "        test_err[i] = performance_metric(y_test, regressor.predict(X_test))\n",
    "\n",
    "    # Plot the model complexity graph\n",
    "    pl.figure(figsize=(7, 5))\n",
    "    pl.title('Decision Tree Regressor Complexity Performance')\n",
    "    pl.plot(max_depth, test_err, lw=2, label = 'Testing Error')\n",
    "    pl.plot(max_depth, train_err, lw=2, label = 'Training Error')\n",
    "    pl.legend()\n",
    "    pl.xlabel('Maximum Depth')\n",
    "    pl.ylabel('Total Error')\n",
    "    pl.show()"
   ]
  },
  {
   "cell_type": "markdown",
   "metadata": {},
   "source": [
    "#Analyzing Model Performance\n",
    "In this third section of the project, you'll take a look at several models' learning and testing error rates on various subsets of training data. Additionally, you'll investigate one particular algorithm with an increasing `max_depth` parameter on the full training set to observe how model complexity affects learning and testing errors. Graphing your model's performance based on varying criteria can be beneficial in the analysis process, such as visualizing behavior that may not have been apparent from the results alone."
   ]
  },
  {
   "cell_type": "code",
   "execution_count": null,
   "metadata": {
    "collapsed": false
   },
   "outputs": [],
   "source": [
    "learning_curves(X_train, y_train, X_test, y_test)"
   ]
  },
  {
   "cell_type": "markdown",
   "metadata": {},
   "source": [
    "##Question 7\n",
    "*Choose one of the learning curve graphs that are created above. What is the max depth for the chosen model? As the size of the training set increases, what happens to the training error? What happens to the testing error?*"
   ]
  },
  {
   "cell_type": "markdown",
   "metadata": {},
   "source": [
    "**Answer: **"
   ]
  },
  {
   "cell_type": "markdown",
   "metadata": {},
   "source": [
    "##Question 8\n",
    "*Look at the learning curve graphs for the model with a max depth of 1 and a max depth of 10. When the model is using the full training set, does it suffer from high bias or high variance when the max depth is 1? What about when the max depth is 10?*"
   ]
  },
  {
   "cell_type": "markdown",
   "metadata": {},
   "source": [
    "**Answer: **"
   ]
  },
  {
   "cell_type": "code",
   "execution_count": null,
   "metadata": {
    "collapsed": false
   },
   "outputs": [],
   "source": [
    "model_complexity(X_train, y_train, X_test, y_test)"
   ]
  },
  {
   "cell_type": "markdown",
   "metadata": {},
   "source": [
    "##Question 9\n",
    "*From the model complexity graph above, describe the training and testing errors as the max depth increases. Based on your interpretation of the graph, which max depth results in a model that best generalizes the dataset? Why?*"
   ]
  },
  {
   "cell_type": "markdown",
   "metadata": {},
   "source": [
    "**Answer: **"
   ]
  },
  {
   "cell_type": "markdown",
   "metadata": {},
   "source": [
    "#Model Prediction\n",
    "In this final section of the project, you will make a prediction on the client's feature set using an optimized model from `fit_model`. *To answer the following questions, it is recommended that you run the code blocks several times and use the median or mean value of the results.*"
   ]
  },
  {
   "cell_type": "markdown",
   "metadata": {},
   "source": [
    "##Question 10\n",
    "*Using grid search, what is the optimal `max_depth` parameter for your model? How does this result compare to your intial intuition?*  \n",
    "**Hint: ** Run the code block below to see the max depth produced by your optimized model."
   ]
  },
  {
   "cell_type": "code",
   "execution_count": null,
   "metadata": {
    "collapsed": false
   },
   "outputs": [],
   "source": [
    "print \"Final model optimal parameters:\", reg.best_params_"
   ]
  },
  {
   "cell_type": "markdown",
   "metadata": {},
   "source": [
    "**Answer: **"
   ]
  },
  {
   "cell_type": "markdown",
   "metadata": {},
   "source": [
    "##Question 11\n",
    "*With your parameter-tuned model, what is the best selling price for your client's home? How does this selling price compare to the basic statistics you calculated on the dataset?*  \n",
    "\n",
    "**Hint: ** Run the code block below to have your parameter-tuned model make a prediction on the client's home."
   ]
  },
  {
   "cell_type": "code",
   "execution_count": null,
   "metadata": {
    "collapsed": false
   },
   "outputs": [],
   "source": [
    "sale_price = reg.predict(CLIENT_FEATURES)\n",
    "print \"Predicted value of client's home: {0:.3f}\".format(sale_price[0])"
   ]
  },
  {
   "cell_type": "markdown",
   "metadata": {},
   "source": [
    "**Answer: **"
   ]
  },
  {
   "cell_type": "markdown",
   "metadata": {},
   "source": [
    "##Question 12 (Final Question):\n",
    "*In a few sentences, discuss whether you would use this model or not to predict the selling price of future clients' homes in the Greater Boston area.*"
   ]
  },
  {
   "cell_type": "markdown",
   "metadata": {},
   "source": [
    "**Answer: **"
   ]
  }
 ],
 "metadata": {
  "kernelspec": {
   "display_name": "Python 3",
   "language": "python",
   "name": "python3"
  },
  "language_info": {
   "codemirror_mode": {
    "name": "ipython",
    "version": 3
   },
   "file_extension": ".py",
   "mimetype": "text/x-python",
   "name": "python",
   "nbconvert_exporter": "python",
   "pygments_lexer": "ipython3",
   "version": "3.5.1"
  }
 },
 "nbformat": 4,
 "nbformat_minor": 0
}
